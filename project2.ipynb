{
 "cells": [
  {
   "cell_type": "markdown",
   "id": "575d02af",
   "metadata": {},
   "source": [
    "Project 2: object-oriented\n",
    "## How important are academic achievements for later success?"
   ]
  },
  {
   "cell_type": "markdown",
   "id": "c32c11b9",
   "metadata": {},
   "source": [
    "In this project, I revisit the same research question as in my first assignment: **“How important are academic achievements for later success?”**. This time I implement the analysis using an **object-oriented programming** approach instead of a procedural one. The goal is to gain a deeper understanding of how and when to apply object-oriented programming while analyzing the same dataset and research question."
   ]
  },
  {
   "cell_type": "code",
   "execution_count": 1,
   "id": "d3c9f183",
   "metadata": {},
   "outputs": [],
   "source": [
    "from typing import Optional\n",
    "from collections import Counter"
   ]
  },
  {
   "cell_type": "markdown",
   "id": "689f4cb5",
   "metadata": {},
   "source": [
    "### Creating a Data Class to model the dataset entries "
   ]
  },
  {
   "cell_type": "code",
   "execution_count": 2,
   "id": "f577507f",
   "metadata": {},
   "outputs": [],
   "source": [
    "from dataclasses import dataclass\n",
    "\n",
    "@dataclass\n",
    "class Person:\n",
    "    name: str\n",
    "    profession: str\n",
    "    degree: str\n",
    "    field: str\n",
    "    institution: str\n",
    "    graduation_year: Optional[int] \n",
    "    country: str\n",
    "    university_global_ranking: Optional[int]\n",
    "    gpa: float\n",
    "    scholarship_award: str"
   ]
  },
  {
   "cell_type": "markdown",
   "id": "2cd7bc54",
   "metadata": {},
   "source": [
    "### Reading the CSVfile"
   ]
  },
  {
   "cell_type": "code",
   "execution_count": 3,
   "id": "bbc42140",
   "metadata": {},
   "outputs": [
    {
     "data": {
      "text/plain": [
       "[Person(name='Elon Musk', profession='Entrepreneur', degree='Bachelor of Science', field='Physics & Economics', institution='University of Pennsylvania', graduation_year=1997, country='USA', university_global_ranking=13, gpa=3.7, scholarship_award='Dean’s List'),\n",
       " Person(name='Bill Gates', profession='Entrepreneur', degree='Dropped Out', field='computer science', institution='Harvard University', graduation_year=1975, country='USA', university_global_ranking=5, gpa=nan, scholarship_award='Dean’s List'),\n",
       " Person(name='Sundar Pichai', profession='Tech Executive', degree='Master of Science', field='Material Sciences and Engineering', institution='Stanford University', graduation_year=1995, country='USA', university_global_ranking=3, gpa=3.8, scholarship_award='Fellowship in Engineering'),\n",
       " Person(name='Sheryl Sandberg', profession='Tech Executive', degree='Master of Business Administration', field='Business Administration', institution='Harvard Business School', graduation_year=1995, country='USA', university_global_ranking=2, gpa=3.9, scholarship_award='Hoover Fellowship'),\n",
       " Person(name='Jeff Bezos', profession='Entrepreneur', degree='Bachelor of Science', field='Computer Science and Electrical Engineering', institution='Princeton University', graduation_year=1986, country='USA', university_global_ranking=16, gpa=3.6, scholarship_award='Marquis Scholar'),\n",
       " Person(name='Indra Nooyi', profession='Business Leader', degree='Master of Business Administration', field='Management', institution='Yale School of Management', graduation_year=1980, country='USA', university_global_ranking=11, gpa=3.7, scholarship_award='Scholarship Winner'),\n",
       " Person(name='Oprah Winfrey', profession='Media Executive', degree='Honorary Doctorate', field='speech communications and performing arts', institution='Tennessee State University', graduation_year=1987, country='USA', university_global_ranking=None, gpa=nan, scholarship_award='Honorary Award'),\n",
       " Person(name='Satya Nadella', profession='Tech Executive', degree='Master of Science', field='Computer Science', institution='University of Wisconsin–Milwaukee', graduation_year=1990, country='USA', university_global_ranking=None, gpa=3.5, scholarship_award='Academic Excellence Award'),\n",
       " Person(name='Malala Yousafzai', profession='Activist', degree='Undergraduate Studies', field='Philosophy', institution='University of Oxford', graduation_year=2021, country='UK', university_global_ranking=4, gpa=nan, scholarship_award='Nobel Peace Prize'),\n",
       " Person(name='Mark Zuckerberg', profession='Entrepreneur', degree='Dropped Out', field='computer science and psychology', institution='Harvard University', graduation_year=None, country='USA', university_global_ranking=5, gpa=nan, scholarship_award='N/A'),\n",
       " Person(name='Marie Curie', profession='Scientist', degree='Doctor of Philosophy', field='Physics', institution='University of Paris', graduation_year=1903, country='France', university_global_ranking=35, gpa=nan, scholarship_award='Nobel Fellowship'),\n",
       " Person(name='Barack Obama', profession='Politician', degree='Juris Doctor', field='Law', institution='Harvard Law School', graduation_year=1991, country='USA', university_global_ranking=2, gpa=3.1, scholarship_award='Harvard Law Review Editor'),\n",
       " Person(name='Tim Cook', profession='Tech Executive', degree='Master of Business Administration', field='Business Administration', institution='Fuqua School of Business (Duke University)', graduation_year=1988, country='USA', university_global_ranking=26, gpa=3.8, scholarship_award='Fuqua Scholar'),\n",
       " Person(name='Serena Williams', profession='Athlete', degree='Bachelor of Science', field='Business Administration', institution='University of California', graduation_year=2021, country='USA', university_global_ranking=40, gpa=3.6, scholarship_award='Student-Athlete Academic Award'),\n",
       " Person(name='Sergey Brin', profession='Entrepreneur', degree='Master of Science', field='Computer Science', institution='Stanford University', graduation_year=1995, country='USA', university_global_ranking=3, gpa=3.9, scholarship_award='National Science Foundation Fellowship'),\n",
       " Person(name='Larry Page', profession='Entrepreneur', degree='Master of Science', field='Computer Engineering', institution='Stanford University', graduation_year=1995, country='USA', university_global_ranking=3, gpa=3.9, scholarship_award='NSF Graduate Fellowship'),\n",
       " Person(name='Angela Merkel', profession='Politician', degree='Doctor of Philosophy', field='Physical Chemistry', institution='University of Leipzig', graduation_year=1986, country='Germany', university_global_ranking=None, gpa=nan, scholarship_award='DAAD Scholarship'),\n",
       " Person(name='Malcolm Gladwell', profession='Author', degree='Master of Arts', field='Sociology', institution='University of Toronto', graduation_year=1987, country='Canada', university_global_ranking=26, gpa=3.7, scholarship_award='Trudeau Foundation Scholar'),\n",
       " Person(name='Emma Watson', profession='Actor', degree='Bachelor of Arts', field='English Literature', institution='Brown University', graduation_year=2014, country='USA', university_global_ranking=14, gpa=3.5, scholarship_award='Rhodes Scholar Finalist'),\n",
       " Person(name='Leonardo DiCaprio', profession='Actor', degree='High School', field='General', institution='Los Angeles Center for Enriched Studies', graduation_year=1992, country='USA', university_global_ranking=None, gpa=nan, scholarship_award='Academy Award Winner'),\n",
       " Person(name='Michelle Obama', profession='Lawyer/Author', degree='Juris Doctor', field='Law', institution='Harvard Law School', graduation_year=1988, country='USA', university_global_ranking=2, gpa=3.7, scholarship_award='Magna Cum Laude'),\n",
       " Person(name='Stephen Hawking', profession='Physicist', degree='PhD', field='Physics', institution='Cambridge University', graduation_year=1966, country='UK', university_global_ranking=3, gpa=nan, scholarship_award='Nobel Prize Physics'),\n",
       " Person(name='J.K. Rowling', profession='Author', degree='Bachelor', field='French/Classics', institution='University of Exeter', graduation_year=1986, country='UK', university_global_ranking=161, gpa=nan, scholarship_award='Honorary Degree'),\n",
       " Person(name='Morgan Freeman', profession='Actor', degree='None', field='Drama', institution='Los Angeles City College', graduation_year=None, country='USA', university_global_ranking=None, gpa=nan, scholarship_award='Kennedy Center Honor'),\n",
       " Person(name='Kamala Harris', profession='Politician', degree='Juris Doctor', field='Law', institution='UC Hastings', graduation_year=1989, country='USA', university_global_ranking=62, gpa=nan, scholarship_award='Alpha Kappa Alpha'),\n",
       " Person(name='Jack Ma', profession='Tech CEO', degree='Bachelor', field='English', institution='Hangzhou Normal University', graduation_year=1988, country='China', university_global_ranking=None, gpa=3.6, scholarship_award='Honorary PhD'),\n",
       " Person(name='Marissa Mayer', profession='Tech Executive', degree='Master', field='Computer Science', institution='Stanford University', graduation_year=1999, country='USA', university_global_ranking=4, gpa=3.9, scholarship_award='National Merit Scholar'),\n",
       " Person(name='Neil deGrasse Tyson', profession='Astrophysicist', degree='PhD', field='Astrophysics', institution='Columbia University', graduation_year=1991, country='USA', university_global_ranking=7, gpa=3.9, scholarship_award='NASA Fellowship'),\n",
       " Person(name='Melinda Gates', profession='Philanthropist', degree='MBA', field='Business', institution='Duke University', graduation_year=1987, country='USA', university_global_ranking=23, gpa=3.8, scholarship_award='Fuqua Scholar'),\n",
       " Person(name='Richard Branson', profession='Business Executive', degree='High School', field='N/A', institution='Stowe School', graduation_year=1968, country='UK', university_global_ranking=None, gpa=nan, scholarship_award='Honorary Degree'),\n",
       " Person(name='Susan Wojcicki', profession='Tech CEO', degree='Master', field='Economics', institution='UC Santa Cruz', graduation_year=1993, country='USA', university_global_ranking=58, gpa=3.9, scholarship_award='Phi Beta Kappa'),\n",
       " Person(name='Yo-Yo Ma', profession='Musician', degree='Bachelor', field='Liberal Arts', institution='Harvard University', graduation_year=1976, country='USA', university_global_ranking=3, gpa=3.8, scholarship_award='Presidential Medal of Freedom'),\n",
       " Person(name='Reed Hastings', profession='Tech CEO', degree='Master', field='Computer Science', institution='Stanford University', graduation_year=1988, country='USA', university_global_ranking=4, gpa=3.7, scholarship_award='Fulbright Scholar'),\n",
       " Person(name='MacKenzie Scott', profession='Author/Philanthropist', degree='Bachelor', field='English', institution='Princeton University', graduation_year=1992, country='USA', university_global_ranking=6, gpa=3.9, scholarship_award='Toni Morrison Thesis Prize'),\n",
       " Person(name='Jensen Huang', profession='Tech CEO', degree='Master', field='Electrical Engineering', institution='Stanford University', graduation_year=1992, country='USA', university_global_ranking=4, gpa=3.8, scholarship_award='Outstanding Graduate'),\n",
       " Person(name='Ursula von der Leyen', profession='Politician', degree='PhD', field='Medicine', institution='Hannover Medical School', graduation_year=1991, country='Germany', university_global_ranking=122, gpa=nan, scholarship_award='Research Excellence Award'),\n",
       " Person(name='Bob Iger', profession='Media Executive', degree='Bachelor', field='Television & Radio', institution='Ithaca College', graduation_year=1973, country='USA', university_global_ranking=None, gpa=3.6, scholarship_award='Honorary Degree'),\n",
       " Person(name='Reshma Saujani', profession='Nonprofit Executive', degree='Juris Doctor', field='Law', institution='Yale Law School', graduation_year=2002, country='USA', university_global_ranking=1, gpa=3.8, scholarship_award='Paul & Daisy Soros Fellow'),\n",
       " Person(name='Sal Khan', profession='Education Executive', degree='Master/MBA', field='Engineering/Business', institution='MIT/Harvard', graduation_year=2003, country='USA', university_global_ranking=1, gpa=4.0, scholarship_award='Presidential Scholar'),\n",
       " Person(name='Padma Lakshmi', profession='TV Host/Author', degree='Bachelor', field='Theatre Arts', institution='Clark University', graduation_year=1992, country='USA', university_global_ranking=None, gpa=3.7, scholarship_award='Fulbright Scholarship'),\n",
       " Person(name='Hamdi Ulukaya', profession='Business Executive', degree='MBA', field='Business', institution='SUNY Albany', graduation_year=1997, country='USA', university_global_ranking=None, gpa=3.6, scholarship_award='Ernst & Young Award'),\n",
       " Person(name='Mary Barra', profession='Business Executive', degree='MBA', field='Business', institution='Stanford University', graduation_year=1990, country='USA', university_global_ranking=4, gpa=3.9, scholarship_award='GM Fellowship'),\n",
       " Person(name='Ken Jeong', profession='Actor/Comedian', degree='MD', field='Medicine', institution='UNC Chapel Hill', graduation_year=1995, country='USA', university_global_ranking=28, gpa=3.9, scholarship_award='Internal Medicine Award'),\n",
       " Person(name='Andrea Jung', profession='Business Executive', degree='Bachelor', field='English Literature', institution='Princeton University', graduation_year=1979, country='USA', university_global_ranking=6, gpa=nan, scholarship_award='Princeton Scholar'),\n",
       " Person(name='John Legend', profession='Musician', degree='Bachelor', field='English', institution='University of Pennsylvania', graduation_year=1999, country='USA', university_global_ranking=8, gpa=3.9, scholarship_award='University Scholar'),\n",
       " Person(name='Anne Wojcicki', profession='Tech CEO', degree='Bachelor', field='Biology', institution='Yale University', graduation_year=1996, country='USA', university_global_ranking=3, gpa=3.8, scholarship_award='Research Excellence Award'),\n",
       " Person(name='Fareed Zakaria', profession='Journalist', degree='PhD', field='Political Science', institution='Harvard University', graduation_year=1993, country='USA', university_global_ranking=3, gpa=nan, scholarship_award='Phi Beta Kappa'),\n",
       " Person(name='Mindy Kaling', profession='Actor/Writer', degree='Bachelor', field='Playwriting', institution='Dartmouth College', graduation_year=2001, country='USA', university_global_ranking=12, gpa=3.7, scholarship_award='Eleanor Frost Prize'),\n",
       " Person(name='Kumail Nanjiani', profession='Actor/Comedian', degree='Bachelor', field='Computer Science/Philosophy', institution='Grinnell College', graduation_year=2001, country='USA', university_global_ranking=None, gpa=3.6, scholarship_award='Comedy Award'),\n",
       " Person(name='Ava DuVernay', profession='Film Director', degree='Bachelor', field='English/African American Studies', institution='UCLA', graduation_year=1995, country='USA', university_global_ranking=15, gpa=3.7, scholarship_award='Directors Guild Award'),\n",
       " Person(name='Tan France', profession='TV Host/Designer', degree='Bachelor', field='Fashion Management', institution='Doncaster College', graduation_year=2000, country='UK', university_global_ranking=None, gpa=nan, scholarship_award='Fashion Excellence Award'),\n",
       " Person(name='Chimamanda Adichie', profession='Author', degree='Master', field='Creative Writing', institution='Johns Hopkins University', graduation_year=2003, country='USA', university_global_ranking=10, gpa=3.9, scholarship_award='MacArthur Fellowship'),\n",
       " Person(name='Trevor Noah', profession='Comedian', degree='None', field='N/A', institution='N/A', graduation_year=None, country='South Africa', university_global_ranking=None, gpa=nan, scholarship_award='Emmy Award Winner'),\n",
       " Person(name='Reshma Shetty', profession='Actor/Singer', degree='Master', field='Music', institution='University of Kentucky', graduation_year=2003, country='USA', university_global_ranking=None, gpa=3.8, scholarship_award='Opera Excellence Award'),\n",
       " Person(name='Dax Shepard', profession='Actor/Podcaster', degree='Bachelor', field='Anthropology', institution='UCLA', graduation_year=1997, country='USA', university_global_ranking=15, gpa=3.6, scholarship_award='Comedy Award'),\n",
       " Person(name='Mayim Bialik', profession='Actor/Scientist', degree='PhD', field='Neuroscience', institution='UCLA', graduation_year=2007, country='USA', university_global_ranking=15, gpa=4.0, scholarship_award='Neuroscience Fellow'),\n",
       " Person(name='Andy Samberg', profession='Comedian/Actor', degree='Bachelor', field='Experimental Film', institution='NYU Tisch', graduation_year=2000, country='USA', university_global_ranking=27, gpa=3.7, scholarship_award='Comedy Award'),\n",
       " Person(name='Natalie Portman', profession='Actor', degree='Bachelor', field='Psychology', institution='Harvard University', graduation_year=2003, country='USA', university_global_ranking=3, gpa=3.9, scholarship_award='Research Award'),\n",
       " Person(name='Warren Buffett', profession='Investor', degree='Master', field='Economics', institution='Columbia University', graduation_year=1951, country='USA', university_global_ranking=7, gpa=3.9, scholarship_award='N/A'),\n",
       " Person(name='Larry Ellison', profession='Entrepreneur', degree='Dropout', field='Computer Science', institution='University of Chicago', graduation_year=None, country='USA', university_global_ranking=10, gpa=nan, scholarship_award='N/A'),\n",
       " Person(name='Michael Dell', profession='Entrepreneur', degree='Dropout', field='Biology', institution='University of Texas', graduation_year=None, country='USA', university_global_ranking=43, gpa=nan, scholarship_award='N/A'),\n",
       " Person(name='Steve Ballmer', profession='Entrepreneur', degree='Bachelor', field='Mathematics', institution='Harvard University', graduation_year=1977, country='USA', university_global_ranking=3, gpa=3.8, scholarship_award='Academic Excellence'),\n",
       " Person(name='Phil Knight', profession='Entrepreneur', degree='MBA', field='Business', institution='Stanford University', graduation_year=1962, country='USA', university_global_ranking=2, gpa=3.7, scholarship_award='N/A'),\n",
       " Person(name='Michael Bloomberg', profession='Entrepreneur', degree='MBA', field='Business', institution='Harvard University', graduation_year=1966, country='USA', university_global_ranking=3, gpa=3.8, scholarship_award='Merit Award'),\n",
       " Person(name='Charles Koch', profession='Entrepreneur', degree='Master', field='Engineering', institution='MIT', graduation_year=1963, country='USA', university_global_ranking=1, gpa=3.9, scholarship_award='Research Grant'),\n",
       " Person(name='David Koch', profession='Entrepreneur', degree='Master', field='Engineering', institution='MIT', graduation_year=1963, country='USA', university_global_ranking=1, gpa=3.9, scholarship_award='Research Grant'),\n",
       " Person(name='Jim Walton', profession='Business', degree='Bachelor', field='Business Administration', institution='University of Arkansas', graduation_year=1971, country='USA', university_global_ranking=597, gpa=3.5, scholarship_award='N/A'),\n",
       " Person(name='Mukesh Ambani', profession='Entrepreneur', degree='MBA', field='Business', institution='Stanford University', graduation_year=1980, country='USA', university_global_ranking=2, gpa=3.8, scholarship_award='Merit Scholarship'),\n",
       " Person(name='Gautam Adani', profession='Entrepreneur', degree='Dropout', field='Commerce', institution='Gujarat University', graduation_year=None, country='India', university_global_ranking=None, gpa=nan, scholarship_award='N/A'),\n",
       " Person(name='Bernard Arnault', profession='Entrepreneur', degree='Engineering', field='Engineering', institution='École Polytechnique', graduation_year=1971, country='France', university_global_ranking=60, gpa=3.9, scholarship_award='Academic Excellence'),\n",
       " Person(name='Carlos Slim', profession='Entrepreneur', degree='Bachelor', field='Engineering', institution='UNAM', graduation_year=1961, country='Mexico', university_global_ranking=122, gpa=3.8, scholarship_award='Academic Merit'),\n",
       " Person(name='Francoise Meyers', profession='Business', degree='Bachelor', field='Business', institution='University of Paris', graduation_year=1975, country='France', university_global_ranking=65, gpa=3.7, scholarship_award='N/A'),\n",
       " Person(name='Larry Fink', profession='Finance', degree='MBA', field='Business', institution='UCLA', graduation_year=1976, country='USA', university_global_ranking=15, gpa=3.9, scholarship_award='Academic Excellence'),\n",
       " Person(name='Stephen Schwarzman', profession='Finance', degree='MBA', field='Business', institution='Harvard University', graduation_year=1972, country='USA', university_global_ranking=3, gpa=3.9, scholarship_award='Merit Award'),\n",
       " Person(name='Jim Simons', profession='Finance', degree='PhD', field='Mathematics', institution='UC Berkeley', graduation_year=1962, country='USA', university_global_ranking=4, gpa=4.0, scholarship_award='Research Fellowship'),\n",
       " Person(name='Len Blavatnik', profession='Entrepreneur', degree='Master', field='Computer Science', institution='Columbia University', graduation_year=1981, country='USA', university_global_ranking=7, gpa=3.9, scholarship_award='Merit Scholarship'),\n",
       " Person(name='Jacqueline Mars', profession='Business', degree='Bachelor', field='Anthropology', institution='Bryn Mawr College', graduation_year=1961, country='USA', university_global_ranking=27, gpa=3.7, scholarship_award='N/A'),\n",
       " Person(name='Gina Rinehart', profession='Business', degree='Dropout', field='Economics', institution='University of Sydney', graduation_year=None, country='Australia', university_global_ranking=None, gpa=nan, scholarship_award='N/A'),\n",
       " Person(name='Shiv Nadar', profession='Entrepreneur', degree='Engineering', field='Electrical Engineering', institution='PSG College of Technology', graduation_year=1967, country='India', university_global_ranking=None, gpa=3.8, scholarship_award='Merit Scholarship'),\n",
       " Person(name='Klaus Schwab', profession='Business', degree='PhD', field='Economics', institution='University of Fribourg', graduation_year=1967, country='Switzerland', university_global_ranking=None, gpa=4.0, scholarship_award='Research Grant'),\n",
       " Person(name='Giorgio Armani', profession='Fashion', degree='Dropout', field='Medicine', institution='University of Milan', graduation_year=None, country='Italy', university_global_ranking=None, gpa=nan, scholarship_award='N/A'),\n",
       " Person(name='Masayoshi Son', profession='Entrepreneur', degree='Bachelor', field='Economics', institution='UC Berkeley', graduation_year=1980, country='USA', university_global_ranking=4, gpa=3.8, scholarship_award='Merit Scholarship'),\n",
       " Person(name='Zhang Yiming', profession='Entrepreneur', degree='Bachelor', field='Software Engineering', institution='Nankai University', graduation_year=2005, country='China', university_global_ranking=None, gpa=3.9, scholarship_award='Academic Excellence'),\n",
       " Person(name='Robin Li', profession='Entrepreneur', degree='Master', field='Computer Science', institution='SUNY Buffalo', graduation_year=1994, country='USA', university_global_ranking=89, gpa=4.0, scholarship_award='Research Grant'),\n",
       " Person(name='Lei Jun', profession='Entrepreneur', degree='Bachelor', field='Computer Science', institution='Wuhan University', graduation_year=1991, country='China', university_global_ranking=None, gpa=3.8, scholarship_award='Merit Award'),\n",
       " Person(name='Richard Liu', profession='Entrepreneur', degree='Bachelor', field='Sociology', institution='Renmin University', graduation_year=1996, country='China', university_global_ranking=None, gpa=3.7, scholarship_award='N/A'),\n",
       " Person(name='Pony Ma', profession='Entrepreneur', degree='Bachelor', field='Computer Science', institution='Shenzhen University', graduation_year=1993, country='China', university_global_ranking=None, gpa=3.8, scholarship_award='Merit Award'),\n",
       " Person(name='Colin Huang', profession='Entrepreneur', degree='Master', field='Computer Science', institution='University of Wisconsin', graduation_year=2004, country='USA', university_global_ranking=28, gpa=4.0, scholarship_award='Research Fellowship'),\n",
       " Person(name='William Ding', profession='Entrepreneur', degree='Bachelor', field='Computer Science', institution='University of Electronic Science', graduation_year=1993, country='China', university_global_ranking=None, gpa=3.9, scholarship_award='Academic Excellence'),\n",
       " Person(name='Wang Xing', profession='Entrepreneur', degree='Master', field='Computer Science', institution='University of Delaware', graduation_year=2005, country='USA', university_global_ranking=137, gpa=3.9, scholarship_award='Merit Scholarship'),\n",
       " Person(name='Tadashi Yanai', profession='Fashion', degree='Bachelor', field='Economics', institution='Waseda University', graduation_year=1971, country='Japan', university_global_ranking=None, gpa=3.6, scholarship_award='N/A'),\n",
       " Person(name='Takemitsu Takizaki', profession='Entrepreneur', degree='Bachelor', field='Engineering', institution='Osaka Institute of Technology', graduation_year=1965, country='Japan', university_global_ranking=None, gpa=3.7, scholarship_award='Merit Award'),\n",
       " Person(name='Qin Yinglin', profession='Business', degree='Master', field='Animal Science', institution='China Agricultural University', graduation_year=1995, country='China', university_global_ranking=None, gpa=3.8, scholarship_award='Research Grant'),\n",
       " Person(name='He Xiangjian', profession='Entrepreneur', degree='No Degree', field='N/A', institution='N/A', graduation_year=None, country='China', university_global_ranking=None, gpa=nan, scholarship_award='N/A'),\n",
       " Person(name='Lu Xiangyang', profession='Entrepreneur', degree='Bachelor', field='Engineering', institution='South China University', graduation_year=1983, country='China', university_global_ranking=None, gpa=3.7, scholarship_award='N/A'),\n",
       " Person(name='Zhang Jindong', profession='Business', degree='Bachelor', field='Management', institution='Nanjing University', graduation_year=1995, country='China', university_global_ranking=None, gpa=3.6, scholarship_award='N/A'),\n",
       " Person(name='Zhou Yahui', profession='Entrepreneur', degree='Bachelor', field='mechanical engineering', institution='Tsinghua University', graduation_year=1999, country='China', university_global_ranking=None, gpa=3.7, scholarship_award='N/A'),\n",
       " Person(name='Carlos Slim Helu', profession='Business', degree='Bachelor', field='Engineering', institution='Universidad Nacional Autonoma de Mexico', graduation_year=1961, country='Mexico', university_global_ranking=122, gpa=3.8, scholarship_award='N/A'),\n",
       " Person(name='Alice Walton', profession='Business', degree='Bachelor', field='Economics', institution='Trinity College', graduation_year=1971, country='USA', university_global_ranking=3, gpa=3.7, scholarship_award='N/A'),\n",
       " Person(name='Francoise Bettencourt Meyers', profession='Business', degree='Bachelor', field='Philosophy', institution='University of Paris', graduation_year=1975, country='France', university_global_ranking=35, gpa=3.8, scholarship_award='N/A'),\n",
       " Person(name='Zhong Shanshan', profession='Business', degree='Bachelor', field='Medicine', institution='Hangzhou Normal University', graduation_year=1982, country='China', university_global_ranking=None, gpa=3.6, scholarship_award='N/A'),\n",
       " Person(name='Mark Mateschitz', profession='Business', degree='Bachelor', field='Economics', institution='Fachhochschule Salzburg', graduation_year=2018, country='Austria', university_global_ranking=None, gpa=3.8, scholarship_award='N/A'),\n",
       " Person(name='Ken Griffin', profession='Finance', degree='Bachelor', field='Economics', institution='Harvard University', graduation_year=1989, country='USA', university_global_ranking=3, gpa=3.8, scholarship_award='N/A'),\n",
       " Person(name='Eduardo Saverin', profession='Entrepreneur', degree='Bachelor', field='Economics', institution='Harvard University', graduation_year=2006, country='USA', university_global_ranking=3, gpa=3.7, scholarship_award='N/A'),\n",
       " Person(name='Vagit Alekperov', profession='Business', degree='Bachelor', field='Engineering', institution='Azarbayjan State Oil Academy', graduation_year=1975, country='Azerbaijan', university_global_ranking=None, gpa=3.6, scholarship_award='N/A'),\n",
       " Person(name='Stefan Quandt', profession='Business', degree='Bachelor', field='Engineering', institution='Technical University of Darmstadt', graduation_year=1994, country='Germany', university_global_ranking=None, gpa=3.7, scholarship_award='N/A'),\n",
       " Person(name='Susanne Klatten', profession='Business', degree='Bachelor', field='Economics', institution='Technical University of Munich', graduation_year=1993, country='Germany', university_global_ranking=None, gpa=3.8, scholarship_award='N/A'),\n",
       " Person(name='Cyrus Poonawalla', profession='Business', degree='Bachelor', field='Pharmacy', institution='University of Pune', graduation_year=1966, country='India', university_global_ranking=None, gpa=3.7, scholarship_award='N/A')]"
      ]
     },
     "execution_count": 3,
     "metadata": {},
     "output_type": "execute_result"
    }
   ],
   "source": [
    "import csv\n",
    "\n",
    "class CSVReader:\n",
    "    def read(self, file_path: str) -> list[Person]:\n",
    "        persons = []\n",
    "        with open(file_path) as csvdatei:\n",
    "            csv_reader_object = csv.reader(csvdatei)\n",
    "            for index, row in enumerate(csv_reader_object):\n",
    "                if (index == 0):\n",
    "                    continue\n",
    "                person = Person(\n",
    "                    name=row[0],\n",
    "                    profession=row[1],\n",
    "                    degree=row[2],\n",
    "                    field=row[3],\n",
    "                    institution=row[4],\n",
    "                    graduation_year=self.parse_int(row[5]),\n",
    "                    country=row[6],\n",
    "                    university_global_ranking=self.parse_int(row[7]),\n",
    "                    gpa=self.parse_float(row[8]),\n",
    "                    scholarship_award=row[9]\n",
    "                )\n",
    "                persons.append(person)\n",
    "        return persons\n",
    "    \n",
    "    def parse_float(self, value: str) -> float:\n",
    "        try:\n",
    "            return float(value)\n",
    "        except:\n",
    "            return float('nan')\n",
    "        \n",
    "    def parse_int(self, value: str) -> Optional[int]:\n",
    "        try:\n",
    "            return int(value)\n",
    "        except:\n",
    "            return None\n",
    "        \n",
    "reader = CSVReader()\n",
    "persons = reader.read('./data/successful_educations.csv') \n",
    "persons              \n"
   ]
  },
  {
   "cell_type": "markdown",
   "id": "1d925684",
   "metadata": {},
   "source": [
    "### Creating a class to represent the DataFrame + adding methods for data analysis"
   ]
  },
  {
   "cell_type": "code",
   "execution_count": 4,
   "id": "b4b377a9",
   "metadata": {},
   "outputs": [],
   "source": [
    "class Dataframe():\n",
    "    def __init__(self, persons: list[Person]):\n",
    "        self.persons = persons\n",
    "\n",
    "    def average_gpa(self) -> float:\n",
    "        gpas = [p.gpa for p in self.persons if not self.is_nan(p.gpa)]\n",
    "        return sum(gpas) / len(gpas) if gpas else 0.0\n",
    "\n",
    "    def is_nan(self, value) -> bool:\n",
    "        return value != value  \n",
    "    \n",
    "    def no_degree_share(self) -> float:\n",
    "        counter = 0\n",
    "        for person in self.persons:\n",
    "            if person.degree =='No Degree' or person.degree =='Dropout' or person.degree == 'Dropped Out':\n",
    "                counter = counter + 1\n",
    "        return counter/len(persons)        \n",
    "\n",
    "    def degree_distribution(self) -> dict:\n",
    "        bachelor_labels = {\n",
    "            \"Bachelor of Science\", \"Undergraduate Studies\", \"Bachelor of Arts\", \"Bachelor\", \"Engineering\"\n",
    "        }\n",
    "        master_labels = {\n",
    "            \"Master of Science\", \"Master of Business Administration\", \"Master of Arts\", \"MBA\", \"Master/MBA\", \"Master\"\n",
    "        }\n",
    "        doctor_labels = {\n",
    "            \"Juris Doctor\", \"PhD\", \"MD\", \"Doctor of Philosophy\"\n",
    "        }\n",
    "        no_degree_labels = {\n",
    "            \"Dropout\", \"No Degree\", \"Dropped Out\"\n",
    "        }\n",
    "\n",
    "        distribution = {\n",
    "            \"Bachelor\": 0,\n",
    "            \"Master\": 0,\n",
    "            \"Doctor\": 0,\n",
    "            \"No Degree\": 0,\n",
    "            \"Other\": 0\n",
    "    \n",
    "        }\n",
    "\n",
    "        for person in self.persons:\n",
    "            degree = person.degree.strip()\n",
    "\n",
    "            if degree in bachelor_labels:\n",
    "                distribution[\"Bachelor\"] += 1\n",
    "            elif degree in master_labels:\n",
    "                distribution[\"Master\"] += 1\n",
    "            elif degree in doctor_labels:\n",
    "                distribution[\"Doctor\"] += 1\n",
    "            elif degree in no_degree_labels:\n",
    "                distribution[\"No Degree\"] += 1\n",
    "            else:\n",
    "                distribution[\"Other\"] += 1\n",
    "    \n",
    "        \n",
    "        distribution[\"Bachelor\"] /= len(self.persons)\n",
    "        distribution[\"Master\"] /= len(self.persons)\n",
    "        distribution[\"Doctor\"] /= len(self.persons)\n",
    "        distribution[\"No Degree\"] /= len(self.persons)\n",
    "        distribution[\"Other\"] /= len(self.persons)\n",
    "        \n",
    "        return distribution\n",
    "    \n",
    "    \n",
    "    def top_university_share(self, top_n: int = 20) -> float:\n",
    "        top_ranked = 0\n",
    "        total_ranked = 0\n",
    "\n",
    "        for person in self.persons:\n",
    "            total_ranked += 1\n",
    "            if person.university_global_ranking is not None and person.university_global_ranking <= top_n:\n",
    "                top_ranked += 1\n",
    "\n",
    "        if total_ranked == 0:\n",
    "            return 0.0  \n",
    "        return top_ranked / total_ranked\n",
    "    \n",
    "    def field_distribution(self, top_n=10):\n",
    "        fields = [p.field.strip().lower() for p in self.persons if p.field]\n",
    "        return Counter(fields).most_common(top_n)\n",
    "  \n",
    "    def scholarship_share(self) -> float:\n",
    "        total = len(self.persons)\n",
    "        if total == 0:\n",
    "            return 0.0\n",
    "\n",
    "        with_scholarship = sum(\n",
    "            1 for person in self.persons\n",
    "            if person.scholarship_award.strip().lower() not in {\"n/a\"}\n",
    "        )\n",
    "\n",
    "        return round((with_scholarship / total) * 100, 2)\n",
    "\n",
    "    def top_institutions(self, top_n=3):\n",
    "        institutions = [p.institution.strip() for p in self.persons if p.institution]\n",
    "        return Counter(institutions).most_common(top_n)\n"
   ]
  },
  {
   "cell_type": "code",
   "execution_count": 5,
   "id": "3efbd626",
   "metadata": {},
   "outputs": [],
   "source": [
    "df = Dataframe(persons)"
   ]
  },
  {
   "cell_type": "markdown",
   "id": "7b79a849",
   "metadata": {},
   "source": [
    "### 1. Question: Do people with high GPAs become more successful?"
   ]
  },
  {
   "cell_type": "code",
   "execution_count": 6,
   "id": "e85db464",
   "metadata": {},
   "outputs": [
    {
     "name": "stdout",
     "output_type": "stream",
     "text": [
      "Average GPA: 3.771764705882353\n"
     ]
    }
   ],
   "source": [
    "\n",
    "print(\"Average GPA:\", df.average_gpa())\n"
   ]
  },
  {
   "cell_type": "code",
   "execution_count": 7,
   "id": "5d32222b",
   "metadata": {},
   "outputs": [
    {
     "name": "stdout",
     "output_type": "stream",
     "text": [
      "Percent without a degree: 0.07407407407407407\n"
     ]
    }
   ],
   "source": [
    "print(\"Percent without a degree:\", df.no_degree_share())"
   ]
  },
  {
   "cell_type": "markdown",
   "id": "514d4a2e",
   "metadata": {},
   "source": [
    "#### First conclusion\n",
    "The average GPA for university students in the U.S. is approximately 3.1. In contrast, the average GPA of the successful individuals in my dataset is around 3.8. This suggests that a high GPA can play an important role in achieving career success.\n",
    "However, there is still 7.4%  who achieved success without completing a university degree, which shows that academic excellence, while helpful, is not a strict requirement for success."
   ]
  },
  {
   "cell_type": "markdown",
   "id": "3d02c822",
   "metadata": {},
   "source": [
    "### 2. Question: What kind of academic thesis is most common among successful individuals?"
   ]
  },
  {
   "cell_type": "code",
   "execution_count": 8,
   "id": "a1a8a9e7",
   "metadata": {},
   "outputs": [
    {
     "name": "stdout",
     "output_type": "stream",
     "text": [
      "Degree Distribution {'Bachelor': 0.46296296296296297, 'Master': 0.28703703703703703, 'Doctor': 0.12962962962962962, 'No Degree': 0.07407407407407407, 'Other': 0.046296296296296294}\n"
     ]
    }
   ],
   "source": [
    "print(\"Degree Distribution\", df.degree_distribution())"
   ]
  },
  {
   "cell_type": "markdown",
   "id": "9a7393a8",
   "metadata": {},
   "source": [
    "### Second Conclusion\n",
    "In my dataset, nearly 50% of the successful individuals hold a Bachelor degree, 29% have earned a Master and 13% hold a doctoral degree. Also 7% of them have no academic degree at all.\n",
    "According to the [Census Bureau Educational Attainment Data](https://www.census.gov/newsroom/press-releases/2023/educational-attainment-data.html), in the U.S. (2022), 23% of the population aged 25 and older hold a Bachelor degree, 14% have earned a Master or Doctorial degree. The remaining 63% have no university degree at all.\n",
    "\n",
    "\n",
    "Compared to the general U.S. population, successful individuals in my dataset are far more likely to hold a university degree - especially at the Master's and Doctoral level. This suggests that while a degree may not be strictly necessary for success, higher education is much more common among successful persons than in the general population."
   ]
  },
  {
   "cell_type": "markdown",
   "id": "7eff6dda",
   "metadata": {},
   "source": [
    "### 3. Are people who attend top-ranked universities more likely to become successful?"
   ]
  },
  {
   "cell_type": "code",
   "execution_count": 9,
   "id": "3f643838",
   "metadata": {},
   "outputs": [
    {
     "name": "stdout",
     "output_type": "stream",
     "text": [
      "Top 20 university share: 0.4537037037037037\n"
     ]
    }
   ],
   "source": [
    "print(\"Top 20 university share:\", df.top_university_share())"
   ]
  },
  {
   "cell_type": "markdown",
   "id": "fe3ed5b7",
   "metadata": {},
   "source": [
    "### Third conclusion\n",
    " Among the successful individuals in my dataset, 45% attended one of the top 20 universities worldwide. \n",
    " Considering the total number of students worldwide and the limited capacity of the top 20 universities, this percentage is quite significant.Therefore, it can be concluded that people who attended top-ranked universities are more likely to become successful. \n",
    " The bar chart also shows which universities most of these individuals attended, and it is noticeable that all of these are well-known university names."
   ]
  },
  {
   "cell_type": "markdown",
   "id": "64000ab9",
   "metadata": {},
   "source": [
    "### 4. Question: Is the field of study important for success?"
   ]
  },
  {
   "cell_type": "code",
   "execution_count": 10,
   "id": "2086ecf9",
   "metadata": {},
   "outputs": [
    {
     "name": "stdout",
     "output_type": "stream",
     "text": [
      "Most common field_distribution: [('computer science', 13), ('economics', 11), ('business', 9), ('engineering', 9), ('business administration', 4), ('law', 4), ('medicine', 4), ('english', 3), ('n/a', 3), ('management', 2)]\n"
     ]
    }
   ],
   "source": [
    "print(\"Most common field_distribution:\", df.field_distribution())"
   ]
  },
  {
   "cell_type": "markdown",
   "id": "2dc9b427",
   "metadata": {},
   "source": [
    "### Fourth conclusion\n",
    "The most common fields among successful individuals are Computer Science, Economics, Business, and Engineering. This suggests that certain areas of study, particularly those related to technology, business, and economics, may have a stronger connection to later success. However, a variety of other fields such as Law, Medicine, and English are also represented, indicating that success can come from diverse academic backgrounds."
   ]
  },
  {
   "cell_type": "markdown",
   "id": "68f5749c",
   "metadata": {},
   "source": [
    "### 5. Question: How important are scholorships/awards for success?"
   ]
  },
  {
   "cell_type": "code",
   "execution_count": 11,
   "id": "65c7e9a2",
   "metadata": {},
   "outputs": [
    {
     "name": "stdout",
     "output_type": "stream",
     "text": [
      "scholarship_share: 74.07\n"
     ]
    }
   ],
   "source": [
    "print(\"scholarship_share:\", df.scholarship_share())"
   ]
  },
  {
   "cell_type": "markdown",
   "id": "ea4a067d",
   "metadata": {},
   "source": [
    "### Fifth  conclusion\n",
    "About 74% of the successful individuals in the dataset have received scholarships or awards. This high percentage indicates that scholarships and awards are common among successful people and may play a significant role in supporting their achievements. "
   ]
  },
  {
   "cell_type": "markdown",
   "id": "0a640aab",
   "metadata": {},
   "source": [
    "### 6. Question: Which university produces the most successful individuals? "
   ]
  },
  {
   "cell_type": "code",
   "execution_count": 12,
   "id": "00833880",
   "metadata": {},
   "outputs": [
    {
     "name": "stdout",
     "output_type": "stream",
     "text": [
      "top_3_institutions: [('Harvard University', 10), ('Stanford University', 9), ('UCLA', 4)]\n"
     ]
    }
   ],
   "source": [
    "print(\"top_3_institutions:\", df.top_institutions())"
   ]
  },
  {
   "cell_type": "markdown",
   "id": "53a4db43",
   "metadata": {},
   "source": [
    "### Sixth conclusion\n",
    "The top three universities producing the most successful individuals in the dataset are Harvard University, Stanford University, and UCLA. This suggests that attending prestigious institutions, especially those with strong reputations like Harvard and Stanford, may increase the likelihood of later success. However, success is not limited to just the very top universities, as shown by UCLA’s presence in the top three."
   ]
  },
  {
   "cell_type": "markdown",
   "id": "8839f5f8",
   "metadata": {},
   "source": [
    "## Final conclusion\n",
    "#### How important are academic achievements for later success?\n",
    "\n",
    "Academic achievement appears to play an important role in achieving career success. Most individuals in the dataset hold university degrees and the average GPA is significantly above the U.S. average. Nearly half of them attended one of the top 20 universities worldwide, suggesting that elite institutions may offer an advantage on the path to success.\n",
    "\n",
    "In conclusion, academic achievements — such as earning a degree, maintaining a strong GPA, attending prestigious universities and getting a scholarship/awards — are common among successful individuals and can certainly support a successful career. However, success can take many forms, and not everyone in the dataset followed the same path. Some achieved success without formal degrees.\n",
    "\n",
    "It is interesting to note that certain areas of study, particularly those related to technology, business, and economics, may have a stronger connection to later success. Additionally, the top three most attended universities among successful individuals are Harvard, Stanford, and UCLA, highlighting the influence of prestigious institutions on career outcomes.\n",
    " \n",
    " We also have to consider that success is hard to measure exactly, and grading systems or university rankings can vary between countries. Additionally, the dataset contains only 108 rows (after cleaning even less than 108), and it is biased because it includes only successful people."
   ]
  }
 ],
 "metadata": {
  "kernelspec": {
   "display_name": "pp_project1",
   "language": "python",
   "name": "python3"
  },
  "language_info": {
   "codemirror_mode": {
    "name": "ipython",
    "version": 3
   },
   "file_extension": ".py",
   "mimetype": "text/x-python",
   "name": "python",
   "nbconvert_exporter": "python",
   "pygments_lexer": "ipython3",
   "version": "3.12.9"
  }
 },
 "nbformat": 4,
 "nbformat_minor": 5
}
