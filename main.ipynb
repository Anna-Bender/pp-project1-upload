{
 "cells": [
  {
   "cell_type": "markdown",
   "id": "a5f54168",
   "metadata": {},
   "source": [
    "# "
   ]
  },
  {
   "cell_type": "markdown",
   "id": "c900bbac",
   "metadata": {},
   "source": [
    "Project 1\n",
    "## How important are academic achievements for later success?"
   ]
  },
  {
   "cell_type": "markdown",
   "id": "9713d932",
   "metadata": {},
   "source": [
    "### 1. Understanding the solution"
   ]
  },
  {
   "cell_type": "markdown",
   "id": "00514df8",
   "metadata": {},
   "source": [
    "#### Problem Statement\n",
    "Many people believe that good grades, attending a top university or winning awards are important for becoming successful in life.\n",
    "In this project, I want to find out if academic achievements are really so important for career success.\n"
   ]
  },
  {
   "cell_type": "markdown",
   "id": "0083ddcf",
   "metadata": {},
   "source": [
    "#### Inputs: What data do I use\n",
    "I use the dataset [Educational Backgrounds of Successful People](https://www.kaggle.com/datasets/adilshamim8/educational-backgrounds-of-successful-people) from kaggle.\n",
    "\n",
    "\n",
    "Important columns are:\n",
    "- GPA\n",
    "- Degree\n",
    "- University Global Ranking\n",
    "- Institution"
   ]
  },
  {
   "cell_type": "markdown",
   "id": "f63ff06b",
   "metadata": {},
   "source": [
    "#### Outputs: What do I want to find out?\n",
    " I want to answer these questions:\n",
    " - Do people with high GPAs become more successful?\n",
    " - What kind of degree is most common among successful individuals?\n",
    " - Are people who attend top-ranked universities more likely to become successful? "
   ]
  },
  {
   "cell_type": "markdown",
   "id": "fc6550e4",
   "metadata": {},
   "source": [
    "#### Constraints: What could make this difficult?\n",
    "- Success is hard to measure exactly \n",
    "- different countries may have different grading systems or university rankings\n",
    "- some data might be missing or unclear\n",
    "- this dataset provides only 108 rows\n",
    "- dataset contains a bias because only successfull people are included in it"
   ]
  },
  {
   "cell_type": "markdown",
   "id": "4096797b",
   "metadata": {},
   "source": [
    "### 2. Designing the solution"
   ]
  },
  {
   "cell_type": "markdown",
   "id": "48409e41",
   "metadata": {},
   "source": [
    "#### How can I solve the problem?\n",
    "I will solve this by analyzing the dataset in a step-by-step way:\n",
    "\n",
    "1. Load the dataset: Read the CSV file into a DataFrame using Pandas\n",
    "2. Explore and clean the data: Check for missing or inconsistent data\n",
    "3. Understand the key features: Focus on columns like GPA, University Global Ranking, Degree, Institution\n",
    "4. Analyze the data\n",
    "5. Visualize the results: Create plots to support the results (bar charts)\n",
    "6. Summarize the results"
   ]
  },
  {
   "cell_type": "markdown",
   "id": "84024496",
   "metadata": {},
   "source": [
    "### 3. Implementing the solution"
   ]
  },
  {
   "cell_type": "markdown",
   "id": "fcab70ca",
   "metadata": {},
   "source": [
    "Downloading the dataset:"
   ]
  },
  {
   "cell_type": "code",
   "execution_count": 192,
   "id": "3655d0b8",
   "metadata": {},
   "outputs": [
    {
     "name": "stdout",
     "output_type": "stream",
     "text": [
      "Path to dataset files: /home/u0/.cache/kagglehub/datasets/adilshamim8/educational-backgrounds-of-successful-people/versions/1\n"
     ]
    }
   ],
   "source": [
    "import kagglehub\n",
    "\n",
    "\n",
    "# Download latest version\n",
    "path = kagglehub.dataset_download(\"adilshamim8/educational-backgrounds-of-successful-people\")\n",
    "\n",
    "print(\"Path to dataset files:\", path)"
   ]
  },
  {
   "cell_type": "code",
   "execution_count": 193,
   "id": "5e749e34",
   "metadata": {},
   "outputs": [],
   "source": [
    "import pandas as pd\n",
    "import seaborn as sns\n",
    "import matplotlib.pyplot as plt\n",
    "import numpy as np"
   ]
  },
  {
   "cell_type": "markdown",
   "id": "10710ba0",
   "metadata": {},
   "source": [
    "Reading my dataset using pandas:"
   ]
  },
  {
   "cell_type": "code",
   "execution_count": 194,
   "id": "e71edf6e",
   "metadata": {},
   "outputs": [],
   "source": [
    "df = pd.read_csv(\"./data/successful_educations.csv\")"
   ]
  },
  {
   "cell_type": "markdown",
   "id": "372bb62b",
   "metadata": {},
   "source": [
    "Explore the data:"
   ]
  },
  {
   "cell_type": "code",
   "execution_count": 195,
   "id": "eee34e2b",
   "metadata": {},
   "outputs": [
    {
     "data": {
      "text/html": [
       "<div>\n",
       "<style scoped>\n",
       "    .dataframe tbody tr th:only-of-type {\n",
       "        vertical-align: middle;\n",
       "    }\n",
       "\n",
       "    .dataframe tbody tr th {\n",
       "        vertical-align: top;\n",
       "    }\n",
       "\n",
       "    .dataframe thead th {\n",
       "        text-align: right;\n",
       "    }\n",
       "</style>\n",
       "<table border=\"1\" class=\"dataframe\">\n",
       "  <thead>\n",
       "    <tr style=\"text-align: right;\">\n",
       "      <th></th>\n",
       "      <th>Name</th>\n",
       "      <th>Profession</th>\n",
       "      <th>Degree</th>\n",
       "      <th>Field</th>\n",
       "      <th>Institution</th>\n",
       "      <th>Graduation Year</th>\n",
       "      <th>Country</th>\n",
       "      <th>University Global Ranking</th>\n",
       "      <th>GPA (or Equivalent)</th>\n",
       "      <th>Scholarship/Award</th>\n",
       "    </tr>\n",
       "  </thead>\n",
       "  <tbody>\n",
       "    <tr>\n",
       "      <th>0</th>\n",
       "      <td>Elon Musk</td>\n",
       "      <td>Entrepreneur</td>\n",
       "      <td>Bachelor of Science</td>\n",
       "      <td>Physics &amp; Economics</td>\n",
       "      <td>University of Pennsylvania</td>\n",
       "      <td>1997.0</td>\n",
       "      <td>USA</td>\n",
       "      <td>13</td>\n",
       "      <td>3.7</td>\n",
       "      <td>Dean’s List</td>\n",
       "    </tr>\n",
       "    <tr>\n",
       "      <th>1</th>\n",
       "      <td>Bill Gates</td>\n",
       "      <td>Entrepreneur</td>\n",
       "      <td>Dropped Out</td>\n",
       "      <td>computer science</td>\n",
       "      <td>Harvard University</td>\n",
       "      <td>1975.0</td>\n",
       "      <td>USA</td>\n",
       "      <td>5</td>\n",
       "      <td>NaN</td>\n",
       "      <td>Dean’s List</td>\n",
       "    </tr>\n",
       "    <tr>\n",
       "      <th>2</th>\n",
       "      <td>Sundar Pichai</td>\n",
       "      <td>Tech Executive</td>\n",
       "      <td>Master of Science</td>\n",
       "      <td>Material Sciences and Engineering</td>\n",
       "      <td>Stanford University</td>\n",
       "      <td>1995.0</td>\n",
       "      <td>USA</td>\n",
       "      <td>3</td>\n",
       "      <td>3.8</td>\n",
       "      <td>Fellowship in Engineering</td>\n",
       "    </tr>\n",
       "    <tr>\n",
       "      <th>3</th>\n",
       "      <td>Sheryl Sandberg</td>\n",
       "      <td>Tech Executive</td>\n",
       "      <td>Master of Business Administration</td>\n",
       "      <td>Business Administration</td>\n",
       "      <td>Harvard Business School</td>\n",
       "      <td>1995.0</td>\n",
       "      <td>USA</td>\n",
       "      <td>2</td>\n",
       "      <td>3.9</td>\n",
       "      <td>Hoover Fellowship</td>\n",
       "    </tr>\n",
       "    <tr>\n",
       "      <th>4</th>\n",
       "      <td>Jeff Bezos</td>\n",
       "      <td>Entrepreneur</td>\n",
       "      <td>Bachelor of Science</td>\n",
       "      <td>Computer Science and Electrical Engineering</td>\n",
       "      <td>Princeton University</td>\n",
       "      <td>1986.0</td>\n",
       "      <td>USA</td>\n",
       "      <td>16</td>\n",
       "      <td>3.6</td>\n",
       "      <td>Marquis Scholar</td>\n",
       "    </tr>\n",
       "  </tbody>\n",
       "</table>\n",
       "</div>"
      ],
      "text/plain": [
       "              Name      Profession                             Degree  \\\n",
       "0        Elon Musk    Entrepreneur                Bachelor of Science   \n",
       "1       Bill Gates    Entrepreneur                        Dropped Out   \n",
       "2    Sundar Pichai  Tech Executive                  Master of Science   \n",
       "3  Sheryl Sandberg  Tech Executive  Master of Business Administration   \n",
       "4       Jeff Bezos    Entrepreneur                Bachelor of Science   \n",
       "\n",
       "                                         Field                 Institution  \\\n",
       "0                          Physics & Economics  University of Pennsylvania   \n",
       "1                             computer science          Harvard University   \n",
       "2            Material Sciences and Engineering         Stanford University   \n",
       "3                      Business Administration     Harvard Business School   \n",
       "4  Computer Science and Electrical Engineering        Princeton University   \n",
       "\n",
       "   Graduation Year Country University Global Ranking GPA (or Equivalent)  \\\n",
       "0           1997.0     USA                        13                 3.7   \n",
       "1           1975.0     USA                         5                 NaN   \n",
       "2           1995.0     USA                         3                 3.8   \n",
       "3           1995.0     USA                         2                 3.9   \n",
       "4           1986.0     USA                        16                 3.6   \n",
       "\n",
       "           Scholarship/Award  \n",
       "0                Dean’s List  \n",
       "1                Dean’s List  \n",
       "2  Fellowship in Engineering  \n",
       "3          Hoover Fellowship  \n",
       "4            Marquis Scholar  "
      ]
     },
     "execution_count": 195,
     "metadata": {},
     "output_type": "execute_result"
    }
   ],
   "source": [
    "df.head()"
   ]
  },
  {
   "cell_type": "markdown",
   "id": "bdf19947",
   "metadata": {},
   "source": [
    "#### 1. Question: Do people with high GPAs become more successful?"
   ]
  },
  {
   "cell_type": "code",
   "execution_count": 196,
   "id": "83180515",
   "metadata": {},
   "outputs": [
    {
     "name": "stdout",
     "output_type": "stream",
     "text": [
      "<class 'pandas.core.frame.DataFrame'>\n",
      "RangeIndex: 108 entries, 0 to 107\n",
      "Data columns (total 10 columns):\n",
      " #   Column                     Non-Null Count  Dtype  \n",
      "---  ------                     --------------  -----  \n",
      " 0   Name                       108 non-null    object \n",
      " 1   Profession                 108 non-null    object \n",
      " 2   Degree                     106 non-null    object \n",
      " 3   Field                      105 non-null    object \n",
      " 4   Institution                106 non-null    object \n",
      " 5   Graduation Year            99 non-null     float64\n",
      " 6   Country                    108 non-null    object \n",
      " 7   University Global Ranking  73 non-null     object \n",
      " 8   GPA (or Equivalent)        93 non-null     object \n",
      " 9   Scholarship/Award          80 non-null     object \n",
      "dtypes: float64(1), object(9)\n",
      "memory usage: 8.6+ KB\n"
     ]
    }
   ],
   "source": [
    "df.info()"
   ]
  },
  {
   "cell_type": "markdown",
   "id": "790c7787",
   "metadata": {},
   "source": [
    "As you can see the coulumns Degree, Field, Institution, Graduation Year, University Global Ranking, GPA, Scholarship/Award have missing values. In my analyse I want to focus on the columns Degree, GPA, Institution, University Global Ranking. In Degree there are 2 values missing, in GPA are 15 values missing, in Institution are 2 values missing and in University Global Ranking are 35 values missing."
   ]
  },
  {
   "cell_type": "code",
   "execution_count": 197,
   "id": "8addf98b",
   "metadata": {},
   "outputs": [
    {
     "data": {
      "text/plain": [
       "array(['Bachelor of Science', 'Dropped Out', 'Master of Science',\n",
       "       'Master of Business Administration', 'Honorary Doctorate',\n",
       "       'Undergraduate Studies', 'Doctor of Philosophy', 'Juris Doctor',\n",
       "       'Master of Arts', 'Bachelor of Arts', 'High School', 'PhD',\n",
       "       'Bachelor', nan, 'Master', 'MBA', 'Master/MBA', 'MD', 'Dropout',\n",
       "       'Engineering', 'No Degree'], dtype=object)"
      ]
     },
     "execution_count": 197,
     "metadata": {},
     "output_type": "execute_result"
    }
   ],
   "source": [
    "df[\"Degree\"].unique()"
   ]
  },
  {
   "cell_type": "markdown",
   "id": "13af46bb",
   "metadata": {},
   "source": [
    "`Dropped Out` and `Dropout` are the same so they should have the same label."
   ]
  },
  {
   "cell_type": "code",
   "execution_count": 198,
   "id": "b148fff7",
   "metadata": {},
   "outputs": [],
   "source": [
    "df[\"Degree\"] = df[\"Degree\"].replace(\"Dropped Out\", \"Dropout\")"
   ]
  },
  {
   "cell_type": "code",
   "execution_count": 199,
   "id": "adebd510",
   "metadata": {
    "vscode": {
     "languageId": "powershell"
    }
   },
   "outputs": [
    {
     "data": {
      "text/plain": [
       "1                  Dropout\n",
       "6       Honorary Doctorate\n",
       "9                  Dropout\n",
       "10    Doctor of Philosophy\n",
       "16    Doctor of Philosophy\n",
       "19             High School\n",
       "23                     NaN\n",
       "29             High School\n",
       "52                     NaN\n",
       "59                 Dropout\n",
       "60                 Dropout\n",
       "68                 Dropout\n",
       "77                 Dropout\n",
       "80                 Dropout\n",
       "93               No Degree\n",
       "Name: Degree, dtype: object"
      ]
     },
     "execution_count": 199,
     "metadata": {},
     "output_type": "execute_result"
    }
   ],
   "source": [
    "gpa_null = df[df[\"GPA (or Equivalent)\"].isnull()]\n",
    "gpa_null[\"Degree\"]"
   ]
  },
  {
   "cell_type": "markdown",
   "id": "a538a08d",
   "metadata": {},
   "source": [
    "As you can see, 8 out of 15 GPA values are missing because theses indiviuals either dropped out of university or did not complete a degree (1 person has no degree at all).\n",
    "To ensure clean data, I will remove the other 7 records with missing GPA values."
   ]
  },
  {
   "cell_type": "code",
   "execution_count": 200,
   "id": "1770af68",
   "metadata": {
    "vscode": {
     "languageId": "powershell"
    }
   },
   "outputs": [
    {
     "data": {
      "text/html": [
       "<div>\n",
       "<style scoped>\n",
       "    .dataframe tbody tr th:only-of-type {\n",
       "        vertical-align: middle;\n",
       "    }\n",
       "\n",
       "    .dataframe tbody tr th {\n",
       "        vertical-align: top;\n",
       "    }\n",
       "\n",
       "    .dataframe thead th {\n",
       "        text-align: right;\n",
       "    }\n",
       "</style>\n",
       "<table border=\"1\" class=\"dataframe\">\n",
       "  <thead>\n",
       "    <tr style=\"text-align: right;\">\n",
       "      <th></th>\n",
       "      <th>Name</th>\n",
       "      <th>Profession</th>\n",
       "      <th>Degree</th>\n",
       "      <th>Field</th>\n",
       "      <th>Institution</th>\n",
       "      <th>Graduation Year</th>\n",
       "      <th>Country</th>\n",
       "      <th>University Global Ranking</th>\n",
       "      <th>GPA (or Equivalent)</th>\n",
       "      <th>Scholarship/Award</th>\n",
       "    </tr>\n",
       "  </thead>\n",
       "  <tbody>\n",
       "    <tr>\n",
       "      <th>0</th>\n",
       "      <td>Elon Musk</td>\n",
       "      <td>Entrepreneur</td>\n",
       "      <td>Bachelor of Science</td>\n",
       "      <td>Physics &amp; Economics</td>\n",
       "      <td>University of Pennsylvania</td>\n",
       "      <td>1997.0</td>\n",
       "      <td>USA</td>\n",
       "      <td>13</td>\n",
       "      <td>3.7</td>\n",
       "      <td>Dean’s List</td>\n",
       "    </tr>\n",
       "    <tr>\n",
       "      <th>1</th>\n",
       "      <td>Bill Gates</td>\n",
       "      <td>Entrepreneur</td>\n",
       "      <td>Dropout</td>\n",
       "      <td>computer science</td>\n",
       "      <td>Harvard University</td>\n",
       "      <td>1975.0</td>\n",
       "      <td>USA</td>\n",
       "      <td>5</td>\n",
       "      <td>NaN</td>\n",
       "      <td>Dean’s List</td>\n",
       "    </tr>\n",
       "    <tr>\n",
       "      <th>2</th>\n",
       "      <td>Sundar Pichai</td>\n",
       "      <td>Tech Executive</td>\n",
       "      <td>Master of Science</td>\n",
       "      <td>Material Sciences and Engineering</td>\n",
       "      <td>Stanford University</td>\n",
       "      <td>1995.0</td>\n",
       "      <td>USA</td>\n",
       "      <td>3</td>\n",
       "      <td>3.8</td>\n",
       "      <td>Fellowship in Engineering</td>\n",
       "    </tr>\n",
       "    <tr>\n",
       "      <th>3</th>\n",
       "      <td>Sheryl Sandberg</td>\n",
       "      <td>Tech Executive</td>\n",
       "      <td>Master of Business Administration</td>\n",
       "      <td>Business Administration</td>\n",
       "      <td>Harvard Business School</td>\n",
       "      <td>1995.0</td>\n",
       "      <td>USA</td>\n",
       "      <td>2</td>\n",
       "      <td>3.9</td>\n",
       "      <td>Hoover Fellowship</td>\n",
       "    </tr>\n",
       "    <tr>\n",
       "      <th>4</th>\n",
       "      <td>Jeff Bezos</td>\n",
       "      <td>Entrepreneur</td>\n",
       "      <td>Bachelor of Science</td>\n",
       "      <td>Computer Science and Electrical Engineering</td>\n",
       "      <td>Princeton University</td>\n",
       "      <td>1986.0</td>\n",
       "      <td>USA</td>\n",
       "      <td>16</td>\n",
       "      <td>3.6</td>\n",
       "      <td>Marquis Scholar</td>\n",
       "    </tr>\n",
       "    <tr>\n",
       "      <th>...</th>\n",
       "      <td>...</td>\n",
       "      <td>...</td>\n",
       "      <td>...</td>\n",
       "      <td>...</td>\n",
       "      <td>...</td>\n",
       "      <td>...</td>\n",
       "      <td>...</td>\n",
       "      <td>...</td>\n",
       "      <td>...</td>\n",
       "      <td>...</td>\n",
       "    </tr>\n",
       "    <tr>\n",
       "      <th>103</th>\n",
       "      <td>Eduardo Saverin</td>\n",
       "      <td>Entrepreneur</td>\n",
       "      <td>Bachelor</td>\n",
       "      <td>Economics</td>\n",
       "      <td>Harvard University</td>\n",
       "      <td>2006.0</td>\n",
       "      <td>USA</td>\n",
       "      <td>3</td>\n",
       "      <td>3.7</td>\n",
       "      <td>NaN</td>\n",
       "    </tr>\n",
       "    <tr>\n",
       "      <th>104</th>\n",
       "      <td>Vagit Alekperov</td>\n",
       "      <td>Business</td>\n",
       "      <td>Bachelor</td>\n",
       "      <td>Engineering</td>\n",
       "      <td>Azarbayjan State Oil Academy</td>\n",
       "      <td>1975.0</td>\n",
       "      <td>Azerbaijan</td>\n",
       "      <td>NaN</td>\n",
       "      <td>3.6</td>\n",
       "      <td>NaN</td>\n",
       "    </tr>\n",
       "    <tr>\n",
       "      <th>105</th>\n",
       "      <td>Stefan Quandt</td>\n",
       "      <td>Business</td>\n",
       "      <td>Bachelor</td>\n",
       "      <td>Engineering</td>\n",
       "      <td>Technical University of Darmstadt</td>\n",
       "      <td>1994.0</td>\n",
       "      <td>Germany</td>\n",
       "      <td>NaN</td>\n",
       "      <td>3.7</td>\n",
       "      <td>NaN</td>\n",
       "    </tr>\n",
       "    <tr>\n",
       "      <th>106</th>\n",
       "      <td>Susanne Klatten</td>\n",
       "      <td>Business</td>\n",
       "      <td>Bachelor</td>\n",
       "      <td>Economics</td>\n",
       "      <td>Technical University of Munich</td>\n",
       "      <td>1993.0</td>\n",
       "      <td>Germany</td>\n",
       "      <td>NaN</td>\n",
       "      <td>3.8</td>\n",
       "      <td>NaN</td>\n",
       "    </tr>\n",
       "    <tr>\n",
       "      <th>107</th>\n",
       "      <td>Cyrus Poonawalla</td>\n",
       "      <td>Business</td>\n",
       "      <td>Bachelor</td>\n",
       "      <td>Pharmacy</td>\n",
       "      <td>University of Pune</td>\n",
       "      <td>1966.0</td>\n",
       "      <td>India</td>\n",
       "      <td>NaN</td>\n",
       "      <td>3.7</td>\n",
       "      <td>NaN</td>\n",
       "    </tr>\n",
       "  </tbody>\n",
       "</table>\n",
       "<p>101 rows × 10 columns</p>\n",
       "</div>"
      ],
      "text/plain": [
       "                 Name      Profession                             Degree  \\\n",
       "0           Elon Musk    Entrepreneur                Bachelor of Science   \n",
       "1          Bill Gates    Entrepreneur                            Dropout   \n",
       "2       Sundar Pichai  Tech Executive                  Master of Science   \n",
       "3     Sheryl Sandberg  Tech Executive  Master of Business Administration   \n",
       "4          Jeff Bezos    Entrepreneur                Bachelor of Science   \n",
       "..                ...             ...                                ...   \n",
       "103   Eduardo Saverin    Entrepreneur                           Bachelor   \n",
       "104   Vagit Alekperov        Business                           Bachelor   \n",
       "105     Stefan Quandt        Business                           Bachelor   \n",
       "106   Susanne Klatten        Business                           Bachelor   \n",
       "107  Cyrus Poonawalla        Business                           Bachelor   \n",
       "\n",
       "                                           Field  \\\n",
       "0                            Physics & Economics   \n",
       "1                               computer science   \n",
       "2              Material Sciences and Engineering   \n",
       "3                        Business Administration   \n",
       "4    Computer Science and Electrical Engineering   \n",
       "..                                           ...   \n",
       "103                                    Economics   \n",
       "104                                  Engineering   \n",
       "105                                  Engineering   \n",
       "106                                    Economics   \n",
       "107                                     Pharmacy   \n",
       "\n",
       "                           Institution  Graduation Year     Country  \\\n",
       "0           University of Pennsylvania           1997.0         USA   \n",
       "1                   Harvard University           1975.0         USA   \n",
       "2                  Stanford University           1995.0         USA   \n",
       "3              Harvard Business School           1995.0         USA   \n",
       "4                 Princeton University           1986.0         USA   \n",
       "..                                 ...              ...         ...   \n",
       "103                 Harvard University           2006.0         USA   \n",
       "104       Azarbayjan State Oil Academy           1975.0  Azerbaijan   \n",
       "105  Technical University of Darmstadt           1994.0     Germany   \n",
       "106     Technical University of Munich           1993.0     Germany   \n",
       "107                 University of Pune           1966.0       India   \n",
       "\n",
       "    University Global Ranking GPA (or Equivalent)          Scholarship/Award  \n",
       "0                          13                 3.7                Dean’s List  \n",
       "1                           5                 NaN                Dean’s List  \n",
       "2                           3                 3.8  Fellowship in Engineering  \n",
       "3                           2                 3.9          Hoover Fellowship  \n",
       "4                          16                 3.6            Marquis Scholar  \n",
       "..                        ...                 ...                        ...  \n",
       "103                         3                 3.7                        NaN  \n",
       "104                       NaN                 3.6                        NaN  \n",
       "105                       NaN                 3.7                        NaN  \n",
       "106                       NaN                 3.8                        NaN  \n",
       "107                       NaN                 3.7                        NaN  \n",
       "\n",
       "[101 rows x 10 columns]"
      ]
     },
     "execution_count": 200,
     "metadata": {},
     "output_type": "execute_result"
    }
   ],
   "source": [
    "gpa_null_not_dropout_filter = df[\"GPA (or Equivalent)\"].isnull() & (~df[\"Degree\"].isin([\"Dropout\", \"No Degree\"]))\n",
    "gpa_null_not_dropout_filter\n",
    "\n",
    "df = df[~gpa_null_not_dropout_filter]\n",
    "df"
   ]
  },
  {
   "cell_type": "markdown",
   "id": "1573ff8e",
   "metadata": {},
   "source": [
    "Feature selecetion"
   ]
  },
  {
   "cell_type": "code",
   "execution_count": 201,
   "id": "c17619a0",
   "metadata": {
    "vscode": {
     "languageId": "powershell"
    }
   },
   "outputs": [
    {
     "name": "stdout",
     "output_type": "stream",
     "text": [
      "<class 'pandas.core.frame.DataFrame'>\n",
      "Index: 101 entries, 0 to 107\n",
      "Data columns (total 3 columns):\n",
      " #   Column                     Non-Null Count  Dtype \n",
      "---  ------                     --------------  ----- \n",
      " 0   GPA (or Equivalent)        93 non-null     object\n",
      " 1   Degree                     101 non-null    object\n",
      " 2   University Global Ranking  71 non-null     object\n",
      "dtypes: object(3)\n",
      "memory usage: 3.2+ KB\n"
     ]
    }
   ],
   "source": [
    "selected_features = df[[\"GPA (or Equivalent)\", \"Degree\", \"University Global Ranking\"]]\n",
    "selected_features.info()"
   ]
  },
  {
   "cell_type": "code",
   "execution_count": 202,
   "id": "adc5b383",
   "metadata": {
    "vscode": {
     "languageId": "powershell"
    }
   },
   "outputs": [
    {
     "data": {
      "text/plain": [
       "array(['3.7', nan, '3.8', '3.9', '3.6', '3.5', 'First Class Honours',\n",
       "       '3.1', '02:02:00', 'Honor Society', 'Magna Cum Laude', '4.0',\n",
       "       'Summa Cum Laude', 'First Class'], dtype=object)"
      ]
     },
     "execution_count": 202,
     "metadata": {},
     "output_type": "execute_result"
    }
   ],
   "source": [
    "selected_features[\"GPA (or Equivalent)\"].unique()"
   ]
  },
  {
   "cell_type": "markdown",
   "id": "39c8bc1e",
   "metadata": {},
   "source": [
    "As you can see the GPA value has non numerical entries. For further analysis I  have to remove these."
   ]
  },
  {
   "cell_type": "markdown",
   "id": "4d9571ab",
   "metadata": {},
   "source": [
    "The GPA is stored as a string data type. To work with it, I first need to convert it to a float."
   ]
  },
  {
   "cell_type": "code",
   "execution_count": 203,
   "id": "b1e8a453",
   "metadata": {},
   "outputs": [
    {
     "name": "stderr",
     "output_type": "stream",
     "text": [
      "/tmp/ipykernel_6469/1001701899.py:1: SettingWithCopyWarning: \n",
      "A value is trying to be set on a copy of a slice from a DataFrame.\n",
      "Try using .loc[row_indexer,col_indexer] = value instead\n",
      "\n",
      "See the caveats in the documentation: https://pandas.pydata.org/pandas-docs/stable/user_guide/indexing.html#returning-a-view-versus-a-copy\n",
      "  selected_features[\"GPA (or Equivalent)\"] = pd.to_numeric(selected_features[\"GPA (or Equivalent)\"], errors='coerce')\n"
     ]
    },
    {
     "data": {
      "text/html": [
       "<div>\n",
       "<style scoped>\n",
       "    .dataframe tbody tr th:only-of-type {\n",
       "        vertical-align: middle;\n",
       "    }\n",
       "\n",
       "    .dataframe tbody tr th {\n",
       "        vertical-align: top;\n",
       "    }\n",
       "\n",
       "    .dataframe thead th {\n",
       "        text-align: right;\n",
       "    }\n",
       "</style>\n",
       "<table border=\"1\" class=\"dataframe\">\n",
       "  <thead>\n",
       "    <tr style=\"text-align: right;\">\n",
       "      <th></th>\n",
       "      <th>GPA (or Equivalent)</th>\n",
       "      <th>Degree</th>\n",
       "      <th>University Global Ranking</th>\n",
       "    </tr>\n",
       "  </thead>\n",
       "  <tbody>\n",
       "    <tr>\n",
       "      <th>0</th>\n",
       "      <td>3.7</td>\n",
       "      <td>Bachelor of Science</td>\n",
       "      <td>13</td>\n",
       "    </tr>\n",
       "    <tr>\n",
       "      <th>1</th>\n",
       "      <td>NaN</td>\n",
       "      <td>Dropout</td>\n",
       "      <td>5</td>\n",
       "    </tr>\n",
       "    <tr>\n",
       "      <th>2</th>\n",
       "      <td>3.8</td>\n",
       "      <td>Master of Science</td>\n",
       "      <td>3</td>\n",
       "    </tr>\n",
       "    <tr>\n",
       "      <th>3</th>\n",
       "      <td>3.9</td>\n",
       "      <td>Master of Business Administration</td>\n",
       "      <td>2</td>\n",
       "    </tr>\n",
       "    <tr>\n",
       "      <th>4</th>\n",
       "      <td>3.6</td>\n",
       "      <td>Bachelor of Science</td>\n",
       "      <td>16</td>\n",
       "    </tr>\n",
       "    <tr>\n",
       "      <th>...</th>\n",
       "      <td>...</td>\n",
       "      <td>...</td>\n",
       "      <td>...</td>\n",
       "    </tr>\n",
       "    <tr>\n",
       "      <th>103</th>\n",
       "      <td>3.7</td>\n",
       "      <td>Bachelor</td>\n",
       "      <td>3</td>\n",
       "    </tr>\n",
       "    <tr>\n",
       "      <th>104</th>\n",
       "      <td>3.6</td>\n",
       "      <td>Bachelor</td>\n",
       "      <td>NaN</td>\n",
       "    </tr>\n",
       "    <tr>\n",
       "      <th>105</th>\n",
       "      <td>3.7</td>\n",
       "      <td>Bachelor</td>\n",
       "      <td>NaN</td>\n",
       "    </tr>\n",
       "    <tr>\n",
       "      <th>106</th>\n",
       "      <td>3.8</td>\n",
       "      <td>Bachelor</td>\n",
       "      <td>NaN</td>\n",
       "    </tr>\n",
       "    <tr>\n",
       "      <th>107</th>\n",
       "      <td>3.7</td>\n",
       "      <td>Bachelor</td>\n",
       "      <td>NaN</td>\n",
       "    </tr>\n",
       "  </tbody>\n",
       "</table>\n",
       "<p>101 rows × 3 columns</p>\n",
       "</div>"
      ],
      "text/plain": [
       "     GPA (or Equivalent)                             Degree  \\\n",
       "0                    3.7                Bachelor of Science   \n",
       "1                    NaN                            Dropout   \n",
       "2                    3.8                  Master of Science   \n",
       "3                    3.9  Master of Business Administration   \n",
       "4                    3.6                Bachelor of Science   \n",
       "..                   ...                                ...   \n",
       "103                  3.7                           Bachelor   \n",
       "104                  3.6                           Bachelor   \n",
       "105                  3.7                           Bachelor   \n",
       "106                  3.8                           Bachelor   \n",
       "107                  3.7                           Bachelor   \n",
       "\n",
       "    University Global Ranking  \n",
       "0                          13  \n",
       "1                           5  \n",
       "2                           3  \n",
       "3                           2  \n",
       "4                          16  \n",
       "..                        ...  \n",
       "103                         3  \n",
       "104                       NaN  \n",
       "105                       NaN  \n",
       "106                       NaN  \n",
       "107                       NaN  \n",
       "\n",
       "[101 rows x 3 columns]"
      ]
     },
     "execution_count": 203,
     "metadata": {},
     "output_type": "execute_result"
    }
   ],
   "source": [
    "selected_features[\"GPA (or Equivalent)\"] = pd.to_numeric(selected_features[\"GPA (or Equivalent)\"], errors='coerce')\n",
    "selected_features\n"
   ]
  },
  {
   "cell_type": "markdown",
   "id": "a2fc9a6c",
   "metadata": {},
   "source": [
    "I calculate in percent the GPA average."
   ]
  },
  {
   "cell_type": "code",
   "execution_count": 204,
   "id": "f871da49",
   "metadata": {
    "vscode": {
     "languageId": "powershell"
    }
   },
   "outputs": [
    {
     "data": {
      "text/plain": [
       "np.float64(3.7717647058823527)"
      ]
     },
     "execution_count": 204,
     "metadata": {},
     "output_type": "execute_result"
    }
   ],
   "source": [
    "average_gpa = selected_features[\"GPA (or Equivalent)\"].mean()\n",
    "average_gpa"
   ]
  },
  {
   "cell_type": "markdown",
   "id": "e7ad4bfd",
   "metadata": {},
   "source": [
    "Then I also calculate how many percent do not have a degree."
   ]
  },
  {
   "cell_type": "code",
   "execution_count": 205,
   "id": "2fa42998",
   "metadata": {},
   "outputs": [
    {
     "data": {
      "text/plain": [
       "np.float64(0.07920792079207921)"
      ]
     },
     "execution_count": 205,
     "metadata": {},
     "output_type": "execute_result"
    }
   ],
   "source": [
    "no_degree_or_dropout_count = df[\"Degree\"].isin([\"No Degree\", \"Dropout\"]).sum()\n",
    "total_people = len(df)\n",
    "percent_no_degree_or_dropout = (no_degree_or_dropout_count / total_people) \n",
    "percent_no_degree_or_dropout"
   ]
  },
  {
   "cell_type": "code",
   "execution_count": 206,
   "id": "d154c575",
   "metadata": {},
   "outputs": [
    {
     "data": {
      "image/png": "[encoded data removed]",
      "text/plain": [
       "<Figure size 800x500 with 1 Axes>"
      ]
     },
     "metadata": {},
     "output_type": "display_data"
    }
   ],
   "source": [
    "plt.figure(figsize=(8, 5))\n",
    "sns.histplot(selected_features[\"GPA (or Equivalent)\"].dropna(), bins=10, kde=False)\n",
    "plt.xlabel(\"GPA (or Equivalent)\")\n",
    "plt.ylabel(\"Count\")\n",
    "plt.title(\"Distribution of GPA among Successful Individuals\")\n",
    "plt.show()"
   ]
  },
  {
   "cell_type": "markdown",
   "id": "3143f803",
   "metadata": {},
   "source": [
    "#### First conclusion\n",
    "The average GPA for university students in the U.S. is approximately 3.1. In contrast, the average GPA of the successful individuals in my dataset is around 3.8. This suggests that a high GPA can play an important role in achieving career success.\n",
    "However, there is still 7.9%  who achieved success without completing a university degree, which shows that academic excellence, while helpful, is not a strict requirement for success.\n"
   ]
  },
  {
   "cell_type": "markdown",
   "id": "eba58584",
   "metadata": {},
   "source": [
    "#### 2. Question: What kind of academic thesis is most common among successful individuals?"
   ]
  },
  {
   "cell_type": "markdown",
   "id": "f1c9164a",
   "metadata": {},
   "source": [
    "First I took a look at the different types of academic degrees listed in the Degree coloumn. "
   ]
  },
  {
   "cell_type": "code",
   "execution_count": 207,
   "id": "6a8eb204",
   "metadata": {},
   "outputs": [
    {
     "data": {
      "text/plain": [
       "array(['Bachelor of Science', 'Dropout', 'Master of Science',\n",
       "       'Master of Business Administration', 'Undergraduate Studies',\n",
       "       'Juris Doctor', 'Master of Arts', 'Bachelor of Arts', 'PhD',\n",
       "       'Bachelor', 'Master', 'MBA', 'Master/MBA', 'MD', 'Engineering',\n",
       "       'No Degree'], dtype=object)"
      ]
     },
     "execution_count": 207,
     "metadata": {},
     "output_type": "execute_result"
    }
   ],
   "source": [
    "selected_features[\"Degree\"].unique()"
   ]
  },
  {
   "cell_type": "markdown",
   "id": "01562d57",
   "metadata": {},
   "source": [
    "Since there are many variations, I grouped them into four main categories: Bachelor, Master, Doctor and No Degree.\n",
    "This simplification makes the data easier to work with and the results more meaningful."
   ]
  },
  {
   "cell_type": "code",
   "execution_count": 208,
   "id": "df2c8077",
   "metadata": {},
   "outputs": [
    {
     "name": "stderr",
     "output_type": "stream",
     "text": [
      "/tmp/ipykernel_6469/1657522224.py:4: SettingWithCopyWarning: \n",
      "A value is trying to be set on a copy of a slice from a DataFrame.\n",
      "Try using .loc[row_indexer,col_indexer] = value instead\n",
      "\n",
      "See the caveats in the documentation: https://pandas.pydata.org/pandas-docs/stable/user_guide/indexing.html#returning-a-view-versus-a-copy\n",
      "  selected_features[\"Degree\"] = selected_features[\"Degree\"].replace(bachelor_labels, \"Bachelor\")\n",
      "/tmp/ipykernel_6469/1657522224.py:10: SettingWithCopyWarning: \n",
      "A value is trying to be set on a copy of a slice from a DataFrame.\n",
      "Try using .loc[row_indexer,col_indexer] = value instead\n",
      "\n",
      "See the caveats in the documentation: https://pandas.pydata.org/pandas-docs/stable/user_guide/indexing.html#returning-a-view-versus-a-copy\n",
      "  selected_features[\"Degree\"] = selected_features[\"Degree\"].replace(master_labels, \"Master\")\n",
      "/tmp/ipykernel_6469/1657522224.py:13: SettingWithCopyWarning: \n",
      "A value is trying to be set on a copy of a slice from a DataFrame.\n",
      "Try using .loc[row_indexer,col_indexer] = value instead\n",
      "\n",
      "See the caveats in the documentation: https://pandas.pydata.org/pandas-docs/stable/user_guide/indexing.html#returning-a-view-versus-a-copy\n",
      "  selected_features[\"Degree\"] = selected_features[\"Degree\"].replace(doctor_labels, \"Doctor\")\n",
      "/tmp/ipykernel_6469/1657522224.py:16: SettingWithCopyWarning: \n",
      "A value is trying to be set on a copy of a slice from a DataFrame.\n",
      "Try using .loc[row_indexer,col_indexer] = value instead\n",
      "\n",
      "See the caveats in the documentation: https://pandas.pydata.org/pandas-docs/stable/user_guide/indexing.html#returning-a-view-versus-a-copy\n",
      "  selected_features[\"Degree\"] = selected_features[\"Degree\"].replace([\"Dropout\", \"No Degree\"], \"No Degree\")\n"
     ]
    },
    {
     "data": {
      "text/plain": [
       "array(['Bachelor', 'No Degree', 'Master', 'Doctor'], dtype=object)"
      ]
     },
     "execution_count": 208,
     "metadata": {},
     "output_type": "execute_result"
    }
   ],
   "source": [
    "bachelor_labels = [\n",
    "    \"Bachelor of Science\", \"Undergraduate Studies\", \"Bachelor of Arts\", \"Bachelor\", \"Engineering\"\n",
    "]\n",
    "selected_features[\"Degree\"] = selected_features[\"Degree\"].replace(bachelor_labels, \"Bachelor\")\n",
    "\n",
    "\n",
    "master_labels = [\n",
    "    \"Master of Science\", \"Master of Business Administration\", \"Master of Arts\", \"MBA\", \"Master/MBA\"\n",
    "]\n",
    "selected_features[\"Degree\"] = selected_features[\"Degree\"].replace(master_labels, \"Master\")\n",
    "\n",
    "doctor_labels = [\"Juris Doctor\", \"PhD\", \"MD\", \"Doctor of Philosophy\"]\n",
    "selected_features[\"Degree\"] = selected_features[\"Degree\"].replace(doctor_labels, \"Doctor\")\n",
    "\n",
    "\n",
    "selected_features[\"Degree\"] = selected_features[\"Degree\"].replace([\"Dropout\", \"No Degree\"], \"No Degree\")\n",
    "\n",
    "selected_features[\"Degree\"].unique()"
   ]
  },
  {
   "cell_type": "markdown",
   "id": "618935da",
   "metadata": {},
   "source": [
    "Next, I calculated the percentage of successful individuals in each category."
   ]
  },
  {
   "cell_type": "code",
   "execution_count": 209,
   "id": "f678de0e",
   "metadata": {},
   "outputs": [
    {
     "data": {
      "text/plain": [
       "Degree\n",
       "Bachelor     0.495050\n",
       "Master       0.306931\n",
       "Doctor       0.118812\n",
       "No Degree    0.079208\n",
       "Name: count, dtype: float64"
      ]
     },
     "execution_count": 209,
     "metadata": {},
     "output_type": "execute_result"
    }
   ],
   "source": [
    "selected_features[\"Degree\"].value_counts() / len(selected_features)"
   ]
  },
  {
   "cell_type": "code",
   "execution_count": 210,
   "id": "663ebc88",
   "metadata": {},
   "outputs": [
    {
     "data": {
      "image/png": "[encoded data removed]",
      "text/plain": [
       "<Figure size 800x500 with 1 Axes>"
      ]
     },
     "metadata": {},
     "output_type": "display_data"
    }
   ],
   "source": [
    "plt.figure(figsize=(8, 5))\n",
    "sns.countplot(data=selected_features, x=\"Degree\", order=selected_features[\"Degree\"].value_counts().index)\n",
    "plt.xlabel(\"Degree\")\n",
    "plt.ylabel(\"Count\")\n",
    "plt.title(\"Distribution of Degrees among Successful Individuals\")\n",
    "plt.show()"
   ]
  },
  {
   "cell_type": "markdown",
   "id": "ab7440b2",
   "metadata": {},
   "source": [
    "#### Second Conclusion\n",
    "In my dataset, 50% of the successful individuals hold a Bachelor degree, 31% have earned a Master and 12% hold a doctoral degree. Also 8% of them have no academic degree at all.\n",
    "According to the [Census Bureau Educational Attainment Data](https://www.census.gov/newsroom/press-releases/2023/educational-attainment-data.html), in the U.S. (2022), 23% of the population aged 25 and older hold a Bachelor degree, 14% have earned a Master or Doctorial degree. The remaining 63% have no university degree at all.\n",
    "\n",
    "\n",
    "Compared to the general U.S. population, successful individuals in my dataset are far more likely to hold a university degree - especially at the Master's and Doctoral level. This suggests that while a degree may not be strictly necessary for success, higher education is much more common among successful persons than in the general population."
   ]
  },
  {
   "cell_type": "markdown",
   "id": "fb01e4b8",
   "metadata": {},
   "source": [
    "#### 3. Are people who attend top-ranked universities more likely to become successful?"
   ]
  },
  {
   "cell_type": "markdown",
   "id": "3cbd4a47",
   "metadata": {},
   "source": [
    "First, I examined the values in the `University Global Ranking` column and checked their data type. "
   ]
  },
  {
   "cell_type": "code",
   "execution_count": 211,
   "id": "f04eaf64",
   "metadata": {},
   "outputs": [
    {
     "data": {
      "text/plain": [
       "array(['13', '5', '3', '2', '16', '11', '301–350', '4', '26', '40', '14',\n",
       "       '161', '62', nan, '7', '23', '58', '6', '122', '1', '28', '8',\n",
       "       '12', '15', '10', '27', '43', '597', '60', '65', '89', '137', '35'],\n",
       "      dtype=object)"
      ]
     },
     "execution_count": 211,
     "metadata": {},
     "output_type": "execute_result"
    }
   ],
   "source": [
    "selected_features[\"University Global Ranking\"].unique()"
   ]
  },
  {
   "cell_type": "markdown",
   "id": "0ee84dcb",
   "metadata": {},
   "source": [
    "Since they were stored as strings, I converted them to floats. I then replaced both missing values (NaN) and the range \"301–350\" with 500, as these rankings are not relevant for my analysis, which focuses on the top 20 universities. "
   ]
  },
  {
   "cell_type": "code",
   "execution_count": 212,
   "id": "be4ab66c",
   "metadata": {},
   "outputs": [
    {
     "name": "stderr",
     "output_type": "stream",
     "text": [
      "/tmp/ipykernel_6469/3520234070.py:1: SettingWithCopyWarning: \n",
      "A value is trying to be set on a copy of a slice from a DataFrame.\n",
      "Try using .loc[row_indexer,col_indexer] = value instead\n",
      "\n",
      "See the caveats in the documentation: https://pandas.pydata.org/pandas-docs/stable/user_guide/indexing.html#returning-a-view-versus-a-copy\n",
      "  selected_features[\"University Global Ranking\"] = selected_features[\"University Global Ranking\"].replace(['301–350', np.nan], 500)\n",
      "/tmp/ipykernel_6469/3520234070.py:2: SettingWithCopyWarning: \n",
      "A value is trying to be set on a copy of a slice from a DataFrame.\n",
      "Try using .loc[row_indexer,col_indexer] = value instead\n",
      "\n",
      "See the caveats in the documentation: https://pandas.pydata.org/pandas-docs/stable/user_guide/indexing.html#returning-a-view-versus-a-copy\n",
      "  selected_features[\"University Global Ranking\"] = selected_features[\"University Global Ranking\"].astype(float)\n"
     ]
    },
    {
     "data": {
      "text/plain": [
       "array([ 13.,   5.,   3.,   2.,  16.,  11., 500.,   4.,  26.,  40.,  14.,\n",
       "       161.,  62.,   7.,  23.,  58.,   6., 122.,   1.,  28.,   8.,  12.,\n",
       "        15.,  10.,  27.,  43., 597.,  60.,  65.,  89., 137.,  35.])"
      ]
     },
     "execution_count": 212,
     "metadata": {},
     "output_type": "execute_result"
    }
   ],
   "source": [
    "selected_features[\"University Global Ranking\"] = selected_features[\"University Global Ranking\"].replace(['301–350', np.nan], 500)\n",
    "selected_features[\"University Global Ranking\"] = selected_features[\"University Global Ranking\"].astype(float)\n",
    "selected_features[\"University Global Ranking\"].unique()"
   ]
  },
  {
   "cell_type": "markdown",
   "id": "b3e16432",
   "metadata": {},
   "source": [
    "After cleaning the data, I calculated the percentage of successful individuals who attended a top 20 university."
   ]
  },
  {
   "cell_type": "code",
   "execution_count": 213,
   "id": "c46863c2",
   "metadata": {},
   "outputs": [
    {
     "name": "stdout",
     "output_type": "stream",
     "text": [
      "Percentage of University Global Ranking between 1 and 20: 48.51%\n"
     ]
    }
   ],
   "source": [
    "ranking_between_1_20 = selected_features[\n",
    "    (selected_features[\"University Global Ranking\"] >= 1) &\n",
    "    (selected_features[\"University Global Ranking\"] <= 20)\n",
    "]\n",
    "percent_between_1_20 = len(ranking_between_1_20) / len(selected_features) * 100\n",
    "print(f\"Percentage of University Global Ranking between 1 and 20: {percent_between_1_20:.2f}%\")"
   ]
  },
  {
   "cell_type": "markdown",
   "id": "a6d04043",
   "metadata": {},
   "source": [
    "I also created a bar chart showing how many successful individuals attended each university — focusing only on the 10 most frequently attended ones."
   ]
  },
  {
   "cell_type": "code",
   "execution_count": 214,
   "id": "a56ef741",
   "metadata": {},
   "outputs": [
    {
     "data": {
      "image/png": "[encoded data removed]",
      "text/plain": [
       "<Figure size 1000x600 with 1 Axes>"
      ]
     },
     "metadata": {},
     "output_type": "display_data"
    }
   ],
   "source": [
    "top_universities = df['Institution'].value_counts().nlargest(10)\n",
    "plt.figure(figsize=(10, 6))\n",
    "sns.barplot(x=top_universities.values, y=top_universities.index, orient='h')\n",
    "plt.xlabel('Number of People')\n",
    "plt.ylabel('University')\n",
    "plt.title('Top 10 Most Attended Universities by Successful Individuals')\n",
    "plt.tight_layout()\n",
    "plt.show()"
   ]
  },
  {
   "cell_type": "markdown",
   "id": "7b5d0243",
   "metadata": {},
   "source": [
    "#### Third conclusion\n",
    " Among the successful individuals in my dataset, 48.5% attended one of the top 20 universities worldwide. \n",
    " Considering the total number of students worldwide and the limited capacity of the top 20 universities, this percentage is quite significant.Therefore, it can be concluded that people who attended top-ranked universities are more likely to become successful. \n",
    " The bar chart also shows which universities most of these individuals attended, and it is noticeable that all of these are well-known university names."
   ]
  },
  {
   "cell_type": "markdown",
   "id": "adbd2c7f",
   "metadata": {},
   "source": [
    "### Final conclusion\n",
    "#### How important are academic achievements for later success?\n",
    "\n",
    "Academic achievement appears to play an important role in achieving career success. Most individuals in the dataset hold university degrees and the average GPA is significantly above the U.S. average. Nearly half of them attended one of the top 20 universities worldwide, suggesting that elite institutions may offer an advantage on the path to success.\n",
    "\n",
    "In conclusion, academic achievements — such as earning a degree, maintaining a strong GPA, and attending prestigious universities — are common among successful individuals and can certainly support a successful career. However, success can take many forms, and not everyone in the dataset followed the same path. Some achieved success without formal degrees.\n",
    " \n",
    " We also have to consider that success is hard to measure exactly, and grading systems or university rankings can vary between countries. Additionally, the dataset contains only 108 rows (after cleaning even less than 108), and it is biased because it includes only successful people."
   ]
  }
 ],
 "metadata": {
  "kernelspec": {
   "display_name": "pp_project1",
   "language": "python",
   "name": "python3"
  },
  "language_info": {
   "codemirror_mode": {
    "name": "ipython",
    "version": 3
   },
   "file_extension": ".py",
   "mimetype": "text/x-python",
   "name": "python",
   "nbconvert_exporter": "python",
   "pygments_lexer": "ipython3",
   "version": "3.12.9"
  }
 },
 "nbformat": 4,
 "nbformat_minor": 5
}
